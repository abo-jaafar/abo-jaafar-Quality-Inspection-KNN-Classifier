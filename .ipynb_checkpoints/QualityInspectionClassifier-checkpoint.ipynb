{
 "cells": [
  {
   "cell_type": "code",
   "execution_count": null,
   "metadata": {},
   "outputs": [],
   "source": [
    "import pandas as pd\n",
    "import numpy as np \n",
    "import matplotlib.pyplot as plt \n",
    "import cv2 \n",
    "import time \n",
    "import os \n",
    "from IPython.display import clear_output "
   ]
  },
  {
   "cell_type": "code",
   "execution_count": null,
   "metadata": {},
   "outputs": [],
   "source": [
    "from sklearn.neighbors import KNeighborsClassifier\n",
    "from sklearn.svm import SVC\n",
    "from sklearn.linear_model import LogisticRegression\n",
    "from sklearn.naive_bayes import GaussianNB\n",
    "from sklearn.tree import DecisionTreeClassifier\n",
    "from sklearn.preprocessing import LabelEncoder \n",
    "from sklearn.metrics import accuracy_score, plot_confusion_matrix, plot_roc_curve "
   ]
  },
  {
   "cell_type": "code",
   "execution_count": null,
   "metadata": {},
   "outputs": [],
   "source": [
    "sample_size = 3000 \n",
    "width = 15 \n",
    "height = 15 "
   ]
  },
  {
   "cell_type": "code",
   "execution_count": null,
   "metadata": {},
   "outputs": [],
   "source": [
    "files = ['def_front', 'ok_front']\n",
    "adress = '/kaggle/input/real-life-industrial-dataset-of-casting-product/casting_data/casting_data/train/{}'\n",
    "data_train = {}\n",
    "for f in files:\n",
    "    data_train[f]=[]\n",
    "for col in files:\n",
    "    os.chdir(adress.format(col))\n",
    "    for i in os.listdir(os.getcwd()):\n",
    "        if i.endswith('.jpeg'):\n",
    "            data_train[col].append(i)"
   ]
  },
  {
   "cell_type": "code",
   "execution_count": null,
   "metadata": {},
   "outputs": [],
   "source": [
    "files = ['def_front', 'ok_front']\n",
    "adress = '/kaggle/input/real-life-industrial-dataset-of-casting-product/casting_data/casting_data/test/{}'\n",
    "data_test = {}\n",
    "for f in files:\n",
    "    data_test[f]=[]\n",
    "for col in files:\n",
    "    os.chdir(adress.format(col))\n",
    "    for i in os.listdir(os.getcwd()):\n",
    "        if i.endswith('.jpeg'):\n",
    "            data_test[col].append(i)"
   ]
  },
  {
   "cell_type": "code",
   "execution_count": null,
   "metadata": {},
   "outputs": [],
   "source": [
    "sizes = [len(data_train['def_front']), len(data_train['ok_front'])]\n",
    "\n",
    "plt.figure(figsize=(10,5), dpi=100)\n",
    "\n",
    "plt.pie(x=sizes,autopct='%1.0f%%',shadow=False, textprops={'color':\"w\",\"fontsize\":15}, startangle=90,explode=(0,.01))\n",
    "plt.legend(files,bbox_to_anchor=(0.4, 0, .7, 1))\n",
    "plt.title(\"Train Data Split\")\n",
    "plt.show()"
   ]
  },
  {
   "cell_type": "code",
   "execution_count": null,
   "metadata": {},
   "outputs": [],
   "source": [
    "start = time.time() \n",
    "image_data_train = []\n",
    "image_target_train = []\n",
    "\n",
    "for title in files:\n",
    "    os.chdir('/kaggle/input/real-life-industrial-dataset-of-casting-product/casting_data/casting_data/train/{}'.format(title))\n",
    "    counter = 0\n",
    "    for i in data_train[title]:\n",
    "        img = cv2.imread(i,0)\n",
    "        image_data_train.append(cv2.resize(img,(width, height)).flatten())\n",
    "        image_target_train.append(title)\n",
    "        counter += 1\n",
    "        if counter == sample_size:\n",
    "            break\n",
    "    clear_output(wait=True)\n",
    "    print(\"Compiled Class\",title)\n",
    "calculate_time = time.time() - start    \n",
    "print(\"Calculate Time\",round(calculate_time,5))"
   ]
  },
  {
   "cell_type": "code",
   "execution_count": null,
   "metadata": {},
   "outputs": [],
   "source": [
    "start = time.time()\n",
    "image_data_test = []\n",
    "image_target_test = []\n",
    "\n",
    "for title in files:\n",
    "    os.chdir('/kaggle/input/real-life-industrial-dataset-of-casting-product/casting_data/casting_data/test/{}'.format(title))\n",
    "    counter = 0\n",
    "    for i in data_test[title]:\n",
    "        img = cv2.imread(i,0)\n",
    "        image_data_test.append(cv2.resize(img,(width, height)).flatten())\n",
    "        image_target_test.append(title)\n",
    "        counter += 1\n",
    "        if counter == sample_size:\n",
    "            break\n",
    "    clear_output(wait=True)\n",
    "    print(\"Compiled Class\",title)\n",
    "calculate_time = time.time() - start    \n",
    "print(\"Calculate Time\",round(calculate_time,5))"
   ]
  },
  {
   "cell_type": "code",
   "execution_count": null,
   "metadata": {},
   "outputs": [],
   "source": [
    "image_data_train = np.array(image_data_train)\n",
    "size_train = image_data_train.shape[0]\n",
    "image_data_train.shape"
   ]
  },
  {
   "cell_type": "code",
   "execution_count": null,
   "metadata": {},
   "outputs": [],
   "source": [
    "image_data_test = np.array(image_data_test)\n",
    "size_test = image_data_test.shape[0]\n",
    "image_data_test.shape"
   ]
  },
  {
   "cell_type": "code",
   "execution_count": null,
   "metadata": {},
   "outputs": [],
   "source": [
    "labels = LabelEncoder()\n",
    "labels.fit(image_target_train)"
   ]
  },
  {
   "cell_type": "code",
   "execution_count": null,
   "metadata": {},
   "outputs": [],
   "source": [
    "train_images = image_data_train / 255.0\n",
    "test_images = image_data_test / 255.0\n",
    "\n",
    "train_labels = labels.transform(image_target_train)\n",
    "test_labels = labels.transform(image_target_test)"
   ]
  },
  {
   "cell_type": "code",
   "execution_count": null,
   "metadata": {},
   "outputs": [],
   "source": [
    "model = LogisticRegression(max_iter=300)\n",
    "model.fit(train_images, train_labels)\n",
    "\n",
    "y_pred = model.predict(test_images)\n",
    "\n",
    "print(\"Acc:\",round(accuracy_score(test_labels,y_pred),2))\n",
    "\n",
    "plot_confusion_matrix(model,test_images, test_labels, cmap='Greens')\n",
    "plt.show()\n",
    "\n",
    "plot_roc_curve(model,test_images, test_labels)\n",
    "plt.plot([0,1],[0,1],'k--')\n",
    "plt.show()"
   ]
  },
  {
   "cell_type": "code",
   "execution_count": null,
   "metadata": {},
   "outputs": [],
   "source": [
    "model = GaussianNB()\n",
    "model.fit(train_images, train_labels)\n",
    "\n",
    "y_pred = model.predict(test_images)\n",
    "\n",
    "print(\"Acc:\",round(accuracy_score(test_labels,y_pred),2))\n",
    "\n",
    "plot_confusion_matrix(model,test_images, test_labels, cmap='Greens')\n",
    "plt.show()\n",
    "\n",
    "plot_roc_curve(model,test_images, test_labels)\n",
    "plt.plot([0,1],[0,1],'k--')\n",
    "plt.show()"
   ]
  },
  {
   "cell_type": "code",
   "execution_count": null,
   "metadata": {},
   "outputs": [],
   "source": [
    "model = DecisionTreeClassifier()\n",
    "model.fit(train_images, train_labels)\n",
    "\n",
    "y_pred = model.predict(test_images)\n",
    "\n",
    "print(\"Acc:\",round(accuracy_score(test_labels,y_pred),2))\n",
    "\n",
    "plot_confusion_matrix(model,test_images, test_labels, cmap='Greens')\n",
    "plt.show()\n",
    "\n",
    "plot_roc_curve(model,test_images, test_labels)\n",
    "plt.plot([0,1],[0,1],'k--')\n",
    "plt.show()"
   ]
  },
  {
   "cell_type": "code",
   "execution_count": null,
   "metadata": {},
   "outputs": [],
   "source": [
    "model = KNeighborsClassifier(2)\n",
    "model.fit(train_images, train_labels)\n",
    "\n",
    "y_pred = model.predict(test_images)\n",
    "\n",
    "print(\"Acc:\",round(accuracy_score(test_labels,y_pred),2))\n",
    "\n",
    "plot_confusion_matrix(model,test_images, test_labels, cmap='Greens')\n",
    "plt.show()\n",
    "\n",
    "plot_roc_curve(model,test_images, test_labels)\n",
    "plt.plot([0,1],[0,1],'k--')\n",
    "plt.show()"
   ]
  },
  {
   "cell_type": "code",
   "execution_count": null,
   "metadata": {},
   "outputs": [],
   "source": [
    "model = SVC()\n",
    "model.C = 100\n",
    "model.fit(train_images, train_labels)\n",
    "\n",
    "y_pred = model.predict(test_images)\n",
    "\n",
    "print(\"Acc:\",round(accuracy_score(test_labels,y_pred),2))\n",
    "\n",
    "plot_confusion_matrix(model,test_images, test_labels, cmap='Greens')\n",
    "plt.show()\n",
    "\n",
    "plot_roc_curve(model,test_images, test_labels)\n",
    "plt.plot([0,1],[0,1],'k--')\n",
    "plt.show()"
   ]
  },
  {
   "cell_type": "code",
   "execution_count": null,
   "metadata": {},
   "outputs": [],
   "source": [
    "def Prediction(image):\n",
    "    global model, width, height\n",
    "    \n",
    "    img = cv2.imread(image,0)\n",
    "    img = cv2.resize(img,(width, height)).flatten() / 255.0\n",
    "    \n",
    "    pred = model.predict([img])\n",
    "    \n",
    "    if (pred==1):\n",
    "        result = 'ok_front'\n",
    "    else:\n",
    "        result = 'def_front'\n",
    "    \n",
    "\n",
    "    \n",
    "    return result"
   ]
  },
  {
   "cell_type": "code",
   "execution_count": null,
   "metadata": {},
   "outputs": [],
   "source": [
    "plt.figure(figsize=(10,10))\n",
    "for i in range(1,17):\n",
    "    front = np.random.choice(['def_front','ok_front'])\n",
    "    sample = np.random.choice(np.arange(1,200))\n",
    "    os.chdir('/kaggle/input/real-life-industrial-dataset-of-casting-product/casting_data/casting_data/test/{}'.format(front))\n",
    "    image = cv2.imread(data_test[front][sample],0)\n",
    "    plt.subplot(4,4,i)\n",
    "    plt.imshow(image,cmap='gray')\n",
    "    plt.xticks([])\n",
    "    plt.yticks([])\n",
    "    if front == 'ok_front':\n",
    "        c = 'green'\n",
    "    else:\n",
    "        c = 'red'\n",
    "    plt.title(front, color=c)\n",
    "    plt.ylabel(\"Pred:{}\".format(Prediction(data_test[front][sample])),color=c)\n",
    "    \n",
    "plt.show()"
   ]
  }
 ],
 "metadata": {
  "kernelspec": {
   "display_name": "Python 3",
   "language": "python",
   "name": "python3"
  },
  "language_info": {
   "codemirror_mode": {
    "name": "ipython",
    "version": 3
   },
   "file_extension": ".py",
   "mimetype": "text/x-python",
   "name": "python",
   "nbconvert_exporter": "python",
   "pygments_lexer": "ipython3",
   "version": "3.8.3"
  }
 },
 "nbformat": 4,
 "nbformat_minor": 4
}
